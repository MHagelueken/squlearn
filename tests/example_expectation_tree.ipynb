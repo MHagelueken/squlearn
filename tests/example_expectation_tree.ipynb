{
 "cells": [
  {
   "cell_type": "code",
   "execution_count": 1,
   "metadata": {},
   "outputs": [],
   "source": [
    "import numpy as np\n",
    "from squlearn.encoding_circuit import ChebyshevPQC,QCNNEncodingCircuit\n",
    "from squlearn.observables import SummedPaulis, CustomObservable\n",
    "\n",
    "pqc = ChebyshevPQC(2, 2, 2)\n",
    "obs = SummedPaulis(2)\n",
    "\n",
    "\n",
    "np.random.seed(42)\n",
    "circuit1 = pqc.get_circuit(np.random.rand(pqc.num_features),np.random.rand(pqc.num_parameters))\n",
    "circuit2 = pqc.get_circuit(np.random.rand(pqc.num_features),np.random.rand(pqc.num_parameters))\n",
    "observable1 = obs.get_operator(np.random.rand(obs.num_parameters))\n",
    "observable2 = obs.get_operator(np.random.rand(obs.num_parameters))"
   ]
  },
  {
   "cell_type": "code",
   "execution_count": 2,
   "metadata": {},
   "outputs": [
    {
     "data": {
      "text/plain": [
       "<qiskit.circuit.quantumcircuit.QuantumCircuit at 0x1a90b70f5e0>"
      ]
     },
     "execution_count": 2,
     "metadata": {},
     "output_type": "execute_result"
    }
   ],
   "source": [
    "circuit1"
   ]
  },
  {
   "cell_type": "code",
   "execution_count": 3,
   "metadata": {},
   "outputs": [
    {
     "data": {
      "text/plain": [
       "SparsePauliOp(['II', 'IZ', 'ZI'],\n",
       "              coeffs=[0.51423444+0.j, 0.59241457+0.j, 0.04645041+0.j])"
      ]
     },
     "execution_count": 3,
     "metadata": {},
     "output_type": "execute_result"
    }
   ],
   "source": [
    "observable2"
   ]
  },
  {
   "cell_type": "code",
   "execution_count": 4,
   "metadata": {},
   "outputs": [
    {
     "name": "stdout",
     "output_type": "stream",
     "text": [
      "[1.0*[1.0*\n",
      "     ┌─────────────┐┌─────────────┐                 ┌────────────┐»\n",
      "q_0: ┤ Ry(0.73199) ├┤ Rx(0.18518) ├───────■─────────┤ Rx(1.0281) ├»\n",
      "     ├─────────────┤├─────────────┤┌──────┴───────┐┌┴────────────┤»\n",
      "q_1: ┤ Ry(0.59866) ├┤ Rx(0.04918) ├┤ Rz(0.058084) ├┤ Rx(0.18951) ├»\n",
      "     └─────────────┘└─────────────┘└──────────────┘└─────────────┘»\n",
      "«                    ┌──────────────┐\n",
      "«q_0: ───────■───────┤ Ry(0.020584) ├\n",
      "«     ┌──────┴──────┐├─────────────┬┘\n",
      "«q_1: ┤ Rz(0.70807) ├┤ Ry(0.96991) ├─\n",
      "«     └─────────────┘└─────────────┘ \n",
      "\n",
      " with observable \n",
      "SparsePauliOp(['II', 'IZ', 'ZI'],\n",
      "              coeffs=[0.45606998+0.j, 0.78517596+0.j, 0.19967378+0.j])\n",
      ", 1.0*\n",
      "     ┌─────────────┐┌─────────────┐                 ┌────────────┐»\n",
      "q_0: ┤ Ry(0.73199) ├┤ Rx(0.18518) ├───────■─────────┤ Rx(1.0281) ├»\n",
      "     ├─────────────┤├─────────────┤┌──────┴───────┐┌┴────────────┤»\n",
      "q_1: ┤ Ry(0.59866) ├┤ Rx(0.04918) ├┤ Rz(0.058084) ├┤ Rx(0.18951) ├»\n",
      "     └─────────────┘└─────────────┘└──────────────┘└─────────────┘»\n",
      "«                    ┌──────────────┐\n",
      "«q_0: ───────■───────┤ Ry(0.020584) ├\n",
      "«     ┌──────┴──────┐├─────────────┬┘\n",
      "«q_1: ┤ Rz(0.70807) ├┤ Ry(0.96991) ├─\n",
      "«     └─────────────┘└─────────────┘ \n",
      "\n",
      " with observable \n",
      "SparsePauliOp(['II', 'IZ', 'ZI'],\n",
      "              coeffs=[0.51423444+0.j, 0.59241457+0.j, 0.04645041+0.j])\n",
      "], 1.0*[1.0*\n",
      "     ┌─────────────┐┌─────────────┐               ┌─────────────┐»\n",
      "q_0: ┤ Ry(0.18182) ├┤ Rx(0.17868) ├───────■───────┤ Rx(0.17104) ├»\n",
      "     └┬────────────┤└┬───────────┬┘┌──────┴──────┐├─────────────┤»\n",
      "q_1: ─┤ Ry(0.1834) ├─┤ Rx(0.712) ├─┤ Rz(0.43195) ├┤ Rx(0.83018) ├»\n",
      "      └────────────┘ └───────────┘ └─────────────┘└─────────────┘»\n",
      "«                    ┌─────────────┐\n",
      "«q_0: ───────■───────┤ Ry(0.29214) ├\n",
      "«     ┌──────┴──────┐├─────────────┤\n",
      "«q_1: ┤ Rz(0.13949) ├┤ Ry(0.36636) ├\n",
      "«     └─────────────┘└─────────────┘\n",
      "\n",
      " with observable \n",
      "SparsePauliOp(['II', 'IZ', 'ZI'],\n",
      "              coeffs=[0.45606998+0.j, 0.78517596+0.j, 0.19967378+0.j])\n",
      ", 1.0*\n",
      "     ┌─────────────┐┌─────────────┐               ┌─────────────┐»\n",
      "q_0: ┤ Ry(0.18182) ├┤ Rx(0.17868) ├───────■───────┤ Rx(0.17104) ├»\n",
      "     └┬────────────┤└┬───────────┬┘┌──────┴──────┐├─────────────┤»\n",
      "q_1: ─┤ Ry(0.1834) ├─┤ Rx(0.712) ├─┤ Rz(0.43195) ├┤ Rx(0.83018) ├»\n",
      "      └────────────┘ └───────────┘ └─────────────┘└─────────────┘»\n",
      "«                    ┌─────────────┐\n",
      "«q_0: ───────■───────┤ Ry(0.29214) ├\n",
      "«     ┌──────┴──────┐├─────────────┤\n",
      "«q_1: ┤ Rz(0.13949) ├┤ Ry(0.36636) ├\n",
      "«     └─────────────┘└─────────────┘\n",
      "\n",
      " with observable \n",
      "SparsePauliOp(['II', 'IZ', 'ZI'],\n",
      "              coeffs=[0.51423444+0.j, 0.59241457+0.j, 0.04645041+0.j])\n",
      "]]\n"
     ]
    }
   ],
   "source": [
    "from squlearn.util.optree import OpTree,OpTreeList\n",
    "\n",
    "measured_tree = OpTree.gen_expectation_tree(OpTreeList([circuit1,circuit2]), OpTreeList([observable1,observable2]))\n",
    "\n",
    "print(measured_tree)"
   ]
  },
  {
   "cell_type": "code",
   "execution_count": 5,
   "metadata": {},
   "outputs": [
    {
     "data": {
      "text/plain": [
       "array([[0.64149003, 0.65482746],\n",
       "       [1.10656431, 1.00928855]])"
      ]
     },
     "execution_count": 5,
     "metadata": {},
     "output_type": "execute_result"
    }
   ],
   "source": [
    "from qiskit.primitives import Sampler\n",
    "\n",
    "OpTree.evaluate.evaluate_tree_with_sampler(measured_tree,{},Sampler())"
   ]
  },
  {
   "cell_type": "code",
   "execution_count": 6,
   "metadata": {},
   "outputs": [
    {
     "data": {
      "text/plain": [
       "array([[0.64149003, 0.65482746],\n",
       "       [1.10656431, 1.00928855]])"
      ]
     },
     "execution_count": 6,
     "metadata": {},
     "output_type": "execute_result"
    }
   ],
   "source": [
    "\n",
    "from qiskit.primitives import Estimator\n",
    "\n",
    "OpTree.evaluate.evaluate_tree_with_estimator(measured_tree,{},Estimator())"
   ]
  },
  {
   "cell_type": "code",
   "execution_count": 13,
   "metadata": {},
   "outputs": [
    {
     "data": {
      "text/plain": [
       "SparsePauliOp(['IXIY', 'IZIZ', 'IZII', 'IIIY'],\n",
       "              coeffs=[1.+0.j, 1.+0.j, 1.+0.j, 1.+0.j])"
      ]
     },
     "execution_count": 13,
     "metadata": {},
     "output_type": "execute_result"
    }
   ],
   "source": [
    "qcnn = QCNNEncodingCircuit(4)\n",
    "qcnn.convolution()\n",
    "qcnn.pooling(measurement=True)\n",
    "qcnn.fully_connected()\n",
    "obs = CustomObservable(2, [\"XY\", \"ZZ\", \"ZI\", \"IY\"])\n",
    "qcnn_obs = qcnn.QCNNObservable(obs).get_operator(np.random.rand(obs.num_parameters))\n",
    "qcnn_obs"
   ]
  },
  {
   "cell_type": "code",
   "execution_count": 14,
   "metadata": {},
   "outputs": [
    {
     "data": {
      "text/plain": [
       "<qiskit.circuit.quantumcircuit.QuantumCircuit at 0x1a999b837c0>"
      ]
     },
     "execution_count": 14,
     "metadata": {},
     "output_type": "execute_result"
    }
   ],
   "source": [
    "qcnn_circuit = qcnn.get_circuit(np.random.rand(qcnn.num_features),np.random.rand(qcnn.num_parameters))\n",
    "qcnn_circuit"
   ]
  },
  {
   "cell_type": "code",
   "execution_count": 15,
   "metadata": {},
   "outputs": [
    {
     "name": "stdout",
     "output_type": "stream",
     "text": [
      "\n",
      "     ┌─────────┐           ┌─────────┐┌─────────┐           ┌───────┐\n",
      "q_0: ┤0        ├───────────┤1        ├┤0        ├───────────┤0      ├\n",
      "     │  Conv_0 │┌─────────┐│         ││         │           │       │\n",
      "q_1: ┤1        ├┤0        ├┤         ├┤1        ├───────────┤  FC_1 ├\n",
      "     ├─────────┤│  Conv_0 ││  Conv_0 ││         │┌─────────┐│       │\n",
      "q_2: ┤0        ├┤1        ├┤         ├┤  Pool_0 ├┤0        ├┤1      ├\n",
      "     │  Conv_0 │└─────────┘│         ││         ││         │└───────┘\n",
      "q_3: ┤1        ├───────────┤0        ├┤         ├┤1        ├─────────\n",
      "     └─────────┘           └─────────┘│         ││  Pool_0 │         \n",
      "c_0: ═════════════════════════════════╡0        ╞╡         ╞═════════\n",
      "                                      └─────────┘│         │         \n",
      "c_1: ════════════════════════════════════════════╡0        ╞═════════\n",
      "                                                 └─────────┘         \n",
      "\n",
      " with observable \n",
      "SparsePauliOp(['IXIY', 'IZIZ', 'IZII', 'IIIY'],\n",
      "              coeffs=[1.+0.j, 1.+0.j, 1.+0.j, 1.+0.j])\n",
      "\n"
     ]
    },
    {
     "name": "stderr",
     "output_type": "stream",
     "text": [
      "C:\\Users\\DKR\\AppData\\Roaming\\Python\\Python310\\site-packages\\qiskit\\circuit\\quantumcircuit.py:1818: RuntimeWarning: Cregbundle set to False since an instruction needs to refer to individual classical wire\n",
      "  return circuit_drawer(\n"
     ]
    }
   ],
   "source": [
    "measured_tree = OpTree.gen_expectation_tree(qcnn_circuit, qcnn_obs)\n",
    "\n",
    "print(measured_tree)"
   ]
  },
  {
   "cell_type": "code",
   "execution_count": 29,
   "metadata": {},
   "outputs": [
    {
     "data": {
      "text/plain": [
       "0.7034"
      ]
     },
     "execution_count": 29,
     "metadata": {},
     "output_type": "execute_result"
    }
   ],
   "source": [
    "from qiskit.primitives import Estimator,BackendEstimator\n",
    "from qiskit import Aer\n",
    "from squlearn import Executor\n",
    "\n",
    "executor = Executor(\"qasm_simulator\",shots=10000,primitive_seed=0)\n",
    "estimator = executor.get_estimator()\n",
    "\n",
    "OpTree.evaluate.evaluate_tree_with_estimator(measured_tree,{},estimator)"
   ]
  },
  {
   "cell_type": "code",
   "execution_count": 30,
   "metadata": {},
   "outputs": [
    {
     "name": "stderr",
     "output_type": "stream",
     "text": [
      "Traceback (most recent call last):\n",
      "  File \"C:\\Users\\DKR\\Documents\\Git Repositories\\squlearn_fork\\squlearn\\src\\squlearn\\util\\executor.py\", line 554, in _primitive_run\n",
      "    job = run()\n",
      "  File \"C:\\Users\\DKR\\Documents\\Git Repositories\\squlearn_fork\\squlearn\\src\\squlearn\\util\\executor.py\", line 838, in run\n",
      "    return self.sampler.run(circuits, parameter_values, **kwargs)\n",
      "  File \"C:\\Users\\DKR\\AppData\\Roaming\\Python\\Python310\\site-packages\\qiskit\\primitives\\base\\base_sampler.py\", line 136, in run\n",
      "    circuits, parameter_values = validation._validate_sampler_args(circuits, parameter_values)\n",
      "  File \"C:\\Users\\DKR\\AppData\\Roaming\\Python\\Python310\\site-packages\\qiskit\\primitives\\base\\validation.py\", line 87, in _validate_sampler_args\n",
      "    circuits = _validate_circuits(circuits, requires_measure=True)\n",
      "  File \"C:\\Users\\DKR\\AppData\\Roaming\\Python\\Python310\\site-packages\\qiskit\\primitives\\base\\validation.py\", line 123, in _validate_circuits\n",
      "    raise ValueError(\n",
      "ValueError: The 0-th circuit does not have Measure instruction. Without measurements, the circuit cannot be sampled from.\n"
     ]
    },
    {
     "ename": "RuntimeError",
     "evalue": "Failed to execute job on simulator!",
     "output_type": "error",
     "traceback": [
      "\u001b[1;31m---------------------------------------------------------------------------\u001b[0m",
      "\u001b[1;31mRuntimeError\u001b[0m                              Traceback (most recent call last)",
      "Cell \u001b[1;32mIn[30], line 7\u001b[0m\n\u001b[0;32m      4\u001b[0m executor \u001b[38;5;241m=\u001b[39m Executor(\u001b[38;5;124m\"\u001b[39m\u001b[38;5;124mqasm_simulator\u001b[39m\u001b[38;5;124m\"\u001b[39m,shots\u001b[38;5;241m=\u001b[39m\u001b[38;5;241m10000\u001b[39m,primitive_seed\u001b[38;5;241m=\u001b[39m\u001b[38;5;241m0\u001b[39m)\n\u001b[0;32m      5\u001b[0m sampler \u001b[38;5;241m=\u001b[39m executor\u001b[38;5;241m.\u001b[39mget_sampler()\n\u001b[1;32m----> 7\u001b[0m \u001b[43mOpTree\u001b[49m\u001b[38;5;241;43m.\u001b[39;49m\u001b[43mevaluate\u001b[49m\u001b[38;5;241;43m.\u001b[39;49m\u001b[43mevaluate_tree_with_sampler\u001b[49m\u001b[43m(\u001b[49m\u001b[43mmeasured_tree\u001b[49m\u001b[43m,\u001b[49m\u001b[43m{\u001b[49m\u001b[43m}\u001b[49m\u001b[43m,\u001b[49m\u001b[43msampler\u001b[49m\u001b[43m)\u001b[49m\n",
      "File \u001b[1;32m~\\Documents\\Git Repositories\\squlearn_fork\\squlearn\\src\\squlearn\\util\\optree\\optree_evaluate.py:1486\u001b[0m, in \u001b[0;36mOpTreeEvaluate.evaluate_tree_with_sampler\u001b[1;34m(expectation_tree, dictionary, sampler, detect_duplicates)\u001b[0m\n\u001b[0;32m   1483\u001b[0m \u001b[38;5;28;01mif\u001b[39;00m \u001b[38;5;28mlen\u001b[39m(total_circuit_list) \u001b[38;5;241m==\u001b[39m \u001b[38;5;241m0\u001b[39m:\n\u001b[0;32m   1484\u001b[0m     _evaluate_index_tree(evaluation_tree, [])\n\u001b[1;32m-> 1486\u001b[0m sampler_result \u001b[38;5;241m=\u001b[39m \u001b[43msampler\u001b[49m\u001b[38;5;241;43m.\u001b[39;49m\u001b[43mrun\u001b[49m\u001b[43m(\u001b[49m\u001b[43mtotal_circuit_list\u001b[49m\u001b[43m,\u001b[49m\u001b[43m \u001b[49m\u001b[43mtotal_parameter_list\u001b[49m\u001b[43m)\u001b[49m\u001b[38;5;241m.\u001b[39mresult()\n\u001b[0;32m   1487\u001b[0m \u001b[38;5;66;03m# print(\"Sampler run time: \", time.time() - start)\u001b[39;00m\n\u001b[0;32m   1488\u001b[0m \n\u001b[0;32m   1489\u001b[0m \u001b[38;5;66;03m# Computation of the expectation values from the sampler results\u001b[39;00m\n\u001b[0;32m   1490\u001b[0m start \u001b[38;5;241m=\u001b[39m time\u001b[38;5;241m.\u001b[39mtime()\n",
      "File \u001b[1;32m~\\Documents\\Git Repositories\\squlearn_fork\\squlearn\\src\\squlearn\\util\\executor.py:1320\u001b[0m, in \u001b[0;36mExecutorSampler.run\u001b[1;34m(self, circuits, parameter_values, **run_options)\u001b[0m\n\u001b[0;32m   1307\u001b[0m \u001b[38;5;28;01mdef\u001b[39;00m \u001b[38;5;21mrun\u001b[39m(\n\u001b[0;32m   1308\u001b[0m     \u001b[38;5;28mself\u001b[39m,\n\u001b[0;32m   1309\u001b[0m     circuits,\n\u001b[0;32m   1310\u001b[0m     parameter_values\u001b[38;5;241m=\u001b[39m\u001b[38;5;28;01mNone\u001b[39;00m,\n\u001b[0;32m   1311\u001b[0m     \u001b[38;5;241m*\u001b[39m\u001b[38;5;241m*\u001b[39mrun_options,\n\u001b[0;32m   1312\u001b[0m ) \u001b[38;5;241m-\u001b[39m\u001b[38;5;241m>\u001b[39m Job:\n\u001b[0;32m   1313\u001b[0m \u001b[38;5;250m    \u001b[39m\u001b[38;5;124;03m\"\"\"\u001b[39;00m\n\u001b[0;32m   1314\u001b[0m \u001b[38;5;124;03m    Overwrites the sampler primitive run method, to evaluate circuits.\u001b[39;00m\n\u001b[0;32m   1315\u001b[0m \u001b[38;5;124;03m    Uses the Executor class for automatic session handling.\u001b[39;00m\n\u001b[1;32m   (...)\u001b[0m\n\u001b[0;32m   1318\u001b[0m \n\u001b[0;32m   1319\u001b[0m \u001b[38;5;124;03m    \"\"\"\u001b[39;00m\n\u001b[1;32m-> 1320\u001b[0m     \u001b[38;5;28;01mreturn\u001b[39;00m \u001b[38;5;28mself\u001b[39m\u001b[38;5;241m.\u001b[39m_executor\u001b[38;5;241m.\u001b[39msampler_run(\n\u001b[0;32m   1321\u001b[0m         circuits\u001b[38;5;241m=\u001b[39mcircuits,\n\u001b[0;32m   1322\u001b[0m         parameter_values\u001b[38;5;241m=\u001b[39mparameter_values,\n\u001b[0;32m   1323\u001b[0m         \u001b[38;5;241m*\u001b[39m\u001b[38;5;241m*\u001b[39mrun_options,\n\u001b[0;32m   1324\u001b[0m     )\n",
      "File \u001b[1;32m~\\Documents\\Git Repositories\\squlearn_fork\\squlearn\\src\\squlearn\\util\\executor.py:855\u001b[0m, in \u001b[0;36mExecutor.sampler_run\u001b[1;34m(self, circuits, parameter_values, **kwargs)\u001b[0m\n\u001b[0;32m    852\u001b[0m \u001b[38;5;28;01melse\u001b[39;00m:\n\u001b[0;32m    853\u001b[0m     hash_value \u001b[38;5;241m=\u001b[39m \u001b[38;5;28;01mNone\u001b[39;00m\n\u001b[1;32m--> 855\u001b[0m \u001b[38;5;28;01mreturn\u001b[39;00m \u001b[38;5;28;43mself\u001b[39;49m\u001b[38;5;241;43m.\u001b[39;49m\u001b[43m_primitive_run\u001b[49m\u001b[43m(\u001b[49m\u001b[43mrun\u001b[49m\u001b[43m,\u001b[49m\u001b[43m \u001b[49m\u001b[38;5;124;43m\"\u001b[39;49m\u001b[38;5;124;43msampler\u001b[39;49m\u001b[38;5;124;43m\"\u001b[39;49m\u001b[43m,\u001b[49m\u001b[43m \u001b[49m\u001b[43mhash_value\u001b[49m\u001b[43m)\u001b[49m\n",
      "File \u001b[1;32m~\\Documents\\Git Repositories\\squlearn_fork\\squlearn\\src\\squlearn\\util\\executor.py:664\u001b[0m, in \u001b[0;36mExecutor._primitive_run\u001b[1;34m(self, run, label, hash_value)\u001b[0m\n\u001b[0;32m    662\u001b[0m     \u001b[38;5;28;01mif\u001b[39;00m critical_error:\n\u001b[0;32m    663\u001b[0m         \u001b[38;5;28mself\u001b[39m\u001b[38;5;241m.\u001b[39m_logger\u001b[38;5;241m.\u001b[39minfo(\u001b[38;5;124mf\u001b[39m\u001b[38;5;124m\"\u001b[39m\u001b[38;5;124mCritical error detected; abort execution\u001b[39m\u001b[38;5;124m\"\u001b[39m)\n\u001b[1;32m--> 664\u001b[0m         \u001b[38;5;28;01mraise\u001b[39;00m critical_error_message\n\u001b[0;32m    666\u001b[0m \u001b[38;5;28;01mif\u001b[39;00m success \u001b[38;5;129;01mis\u001b[39;00m \u001b[38;5;129;01mnot\u001b[39;00m \u001b[38;5;28;01mTrue\u001b[39;00m:\n\u001b[0;32m    667\u001b[0m     \u001b[38;5;28;01mraise\u001b[39;00m \u001b[38;5;167;01mRuntimeError\u001b[39;00m(\n\u001b[0;32m    668\u001b[0m         \u001b[38;5;124mf\u001b[39m\u001b[38;5;124m\"\u001b[39m\u001b[38;5;124mCould not run job successfully after \u001b[39m\u001b[38;5;130;01m{{\u001b[39;00m\u001b[38;5;130;01m}}\u001b[39;00m\u001b[38;5;124m retries\u001b[39m\u001b[38;5;124m\"\u001b[39m\u001b[38;5;241m.\u001b[39mformat(\u001b[38;5;28mself\u001b[39m\u001b[38;5;241m.\u001b[39m_max_jobs_retries)\n\u001b[0;32m    669\u001b[0m     )\n",
      "\u001b[1;31mRuntimeError\u001b[0m: Failed to execute job on simulator!"
     ]
    }
   ],
   "source": [
    "from qiskit.primitives import BackendSampler\n",
    "from qiskit import Aer\n",
    "\n",
    "executor = Executor(\"qasm_simulator\",shots=10000,primitive_seed=0)\n",
    "sampler = executor.get_sampler()\n",
    "\n",
    "OpTree.evaluate.evaluate_tree_with_sampler(measured_tree,{},sampler)"
   ]
  }
 ],
 "metadata": {
  "kernelspec": {
   "display_name": "venv",
   "language": "python",
   "name": "python3"
  },
  "language_info": {
   "codemirror_mode": {
    "name": "ipython",
    "version": 3
   },
   "file_extension": ".py",
   "mimetype": "text/x-python",
   "name": "python",
   "nbconvert_exporter": "python",
   "pygments_lexer": "ipython3",
   "version": "3.10.2"
  }
 },
 "nbformat": 4,
 "nbformat_minor": 2
}
